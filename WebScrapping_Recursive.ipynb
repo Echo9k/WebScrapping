{
  "nbformat": 4,
  "nbformat_minor": 0,
  "metadata": {
    "colab": {
      "name": "WebScrapping Recursive.ipynb",
      "private_outputs": true,
      "provenance": [],
      "collapsed_sections": [
        "E76ZaqmVw3lD",
        "Xlqqp3y_cEYh",
        "AlUDIcHJ2D11",
        "MUFcWlWh2F-z",
        "OL23R8HgQrnr",
        "rzWrU5G0Yyoi",
        "HdNFWI92RIpj"
      ],
      "toc_visible": true,
      "authorship_tag": "ABX9TyOrNQj3ScjvTcOVUZuAC+6X",
      "include_colab_link": true
    },
    "kernelspec": {
      "name": "python3",
      "display_name": "Python 3"
    }
  },
  "cells": [
    {
      "cell_type": "markdown",
      "metadata": {
        "id": "view-in-github",
        "colab_type": "text"
      },
      "source": [
        "<a href=\"https://colab.research.google.com/github/Echo9k/WebScrapping/blob/main/WebScrapping_Recursive.ipynb\" target=\"_parent\"><img src=\"https://colab.research.google.com/assets/colab-badge.svg\" alt=\"Open In Colab\"/></a>"
      ]
    },
    {
      "cell_type": "markdown",
      "metadata": {
        "id": "HynXt4IEQ-MA"
      },
      "source": [
        "# Set up"
      ]
    },
    {
      "cell_type": "code",
      "metadata": {
        "id": "B6qvC-Vt767y",
        "cellView": "form"
      },
      "source": [
        "#@title Install libraries\n",
        "#@markdown use only in colab\n",
        "!pip install w3lib\n",
        "!pip install selenium\n",
        "!apt-get update # to update ubuntu to correctly run apt install\n",
        "!apt install chromium-chromedriver\n",
        "!cp /usr/lib/chromium-browser/chromedriver /usr/bin"
      ],
      "execution_count": null,
      "outputs": []
    },
    {
      "cell_type": "code",
      "metadata": {
        "id": "qXc81jeLtPTa"
      },
      "source": [
        "#@title Set up\n",
        "#@markdown Loading dependencies...\n",
        "import os\n",
        "import re\n",
        "import scipy\n",
        "import numpy as np\n",
        "import pandas as pd\n",
        "from tqdm import tqdm\n",
        "from datetime import datetime\n",
        "\n",
        "# HTML\n",
        "import requests\n",
        "from bs4 import BeautifulSoup as bs\n",
        "from requests.exceptions import HTTPError\n",
        "from IPython.core.display import display, HTML\n",
        "from urllib.parse import unquote\n",
        "# import mechanize\n",
        "\n",
        "# Selenium for JS support\n",
        "import sys\n",
        "sys.path.insert(0,'/usr/lib/chromium-browser/chromedriver')\n",
        "from selenium import webdriver"
      ],
      "execution_count": null,
      "outputs": []
    },
    {
      "cell_type": "code",
      "metadata": {
        "id": "_ETiYZEh-bmy"
      },
      "source": [
        "#@title Headless\n",
        "chrome_options = webdriver.ChromeOptions()\n",
        "chrome_options.add_argument('--headless')\n",
        "chrome_options.add_argument('--no-sandbox')\n",
        "chrome_options.add_argument('--disable-dev-shm-usage')\n",
        "\n",
        "#@markdown As: headles_driver\n",
        "headles_driver = webdriver.Chrome('chromedriver',chrome_options=chrome_options)"
      ],
      "execution_count": null,
      "outputs": []
    },
    {
      "cell_type": "code",
      "metadata": {
        "id": "xs6pHvgAXaVh"
      },
      "source": [
        "#@title PhantomJS\n",
        "#@markdown As: phantom_driver\n",
        "from selenium import webdriver\n",
        "!wget https://bitbucket.org/ariya/phantomjs/downloads/phantomjs-2.1.1-linux-x86_64.tar.bz2\n",
        "!tar xvjf phantomjs-2.1.1-linux-x86_64.tar.bz2\n",
        "!cp phantomjs-2.1.1-linux-x86_64/bin/phantomjs /usr/local/bin\n",
        "!ls -al\n",
        "phantom_driver = webdriver.PhantomJS()"
      ],
      "execution_count": null,
      "outputs": []
    },
    {
      "cell_type": "markdown",
      "metadata": {
        "id": "lhYDCULoFALT"
      },
      "source": [
        "# Definitions"
      ]
    },
    {
      "cell_type": "code",
      "metadata": {
        "id": "3ZTECalQFfSW",
        "cellView": "form"
      },
      "source": [
        "#@title Regex\n",
        "#@markdown Regex parameters and labels\n",
        "brand_regex = r\"(?:brand|brandname|vendor|manufacturer|product-brand)(?![&])(.)\"\n",
        "crumb_regex = r\"(?:category|categories|category path|breadcrumbs|breadcrum|crumb|navbar|Product Category)(?![&])(.)\"\n",
        "upc_regex = r\"(?:sku|model|model id|model no|item number|itemid|article no|product number|style number|product id|item code|mfr no|data-product)(?![&])(.)\"\n",
        "model_regex = '(?:sku|model|model id|model no|item number|itemid|article no|product number|style number|product id|item code|mfr no|data-product)(?![&])(.)'\n",
        "mfr_regex = r'(?:\"UPC\"|\"GTIN\"|\"EAN\"|\"upc\"|\"upccode\"|\"product_upc\"|\"product:upc\"|\"gtin\"|\"ean\"|\"barcode\")'\n",
        "part_regex = r\"(?:PN|P/N|part no|part number|part|part #|mpn)(?![&g])(...)\"\n",
        "color_regex = r\"(?:color|color_name|shade|finish|shade description)(?![&])(.)\"\n",
        "size_regex = r\"(?:selected size|available size|choose a size|product size|attribute pa size)(?![&])(.)\"\n",
        "mfr_regex = r\"(?:manufacturer|mfr|mfg|manufacturer logo|manufacturer name|label|producer|fabricante|fabrikant|Hersteller)(?![&])(.)\"\n",
        "price_regex = r\"(?:MSRP|MRP|Recommended Customer Price|USD MSRP|List Price|reseller price may vary)(?![&])(.)\"\n",
        "ct_regex = r\"(?:count|pieces|ct|pc|combo|per pack|contains)(?![&])(.)\"\n",
        "pk_regex = r\"(?:packs|packs of|pk|package|combo|carton|carton pack)(?![&])(.)\"\n",
        "description_regex = r\"(?:Product Details|Specification|Tech specs|Technical specification|Details|see more features|Product Description|Description|About the product|ingredients|Where to use|How to use)(?![&])(.)\"\n",
        "\n",
        "labels= {\"Brand Name\":brand_regex,\n",
        "        \"Category Name\":crumb_regex,\n",
        "        \"Model Name\":model_regex,\n",
        "        \"UPC\":upc_regex,\n",
        "        \"Part Number\":part_regex,\n",
        "        \"Color name\":color_regex,\n",
        "        \"Size Name\":size_regex,\n",
        "        \"Manufacturer Name\":mfr_regex,\n",
        "        \"List Price\":price_regex,\n",
        "        \"Item Count\":ct_regex,\n",
        "        \"Item Package Quantity\":pk_regex,\n",
        "        \"Product Description\":description_regex}\n"
      ],
      "execution_count": null,
      "outputs": []
    },
    {
      "cell_type": "code",
      "metadata": {
        "id": "BHLaDDJ_C5SJ"
      },
      "source": [
        "#@title Functions\n",
        "#@markdown * Search tag\n",
        "#@markdown * Finder\n",
        "def search_tag(tag, string):\n",
        "    regex=r\"(?:\"+tag+\"=)\"\n",
        "    if tag in string:\n",
        "        split_1 = re.split(regex,string)[1].replace('%20', ' ')\n",
        "        print(f\"{tag}: found in text\\n\"\n",
        "            f\"contains:{split_1}\")\n",
        "\n",
        "#@title Finder function\n",
        "def finder(regex:str, text:str,*,\n",
        "           look_before:int=10,\n",
        "           look_ahead:int=250,\n",
        "           extra_dots=1) -> str:\n",
        "    \"\"\"\n",
        "    # RETURNS: group found, match\n",
        "    \"\"\"\n",
        "    matches = re.finditer(regex, text, re.MULTILINE | re.IGNORECASE | re.UNICODE)\n",
        "    \n",
        "    for matchNum, match in enumerate(matches, start=1):\n",
        "        print(f\"Match: {matchNum} {match.group()}\")\n",
        "        # , match = match.group()\n",
        "        \n",
        "        for groupNum in range(0, len(match.groups())):\n",
        "            groupNum = groupNum + 1\n",
        "            return match.group()[:-extra_dots], match.string[match.start(groupNum)-look_before:match.end(groupNum)+look_ahead]\n",
        "\n",
        "def get_attribute(id, attribute):\n",
        "    return headles_driver.find_element_by_id(id).get_attribute(attribute)\n",
        "        \n",
        "class page_loader:\n",
        "    \"This is a page class\"\n",
        "    def __init__(self, url, headless=False, phantom=False):\n",
        "        self.url = url\n",
        "        self.response = bs(requests.get(url).text)\n",
        "        self.parsed_url = unquote(url)\n",
        "        self.headless_driver = None\n",
        "        self.phantom_driver = None\n",
        "        self.variant = np.squeeze(re.findall(r\"=(.*)\", self.url))\n",
        "        if headless:\n",
        "            self.headless_driver = get_headless_driver()\n",
        "        if phantom:\n",
        "            self.phantom_driver = get_phantom_driver()\n",
        "\n",
        "    def get_headless_driver(self):\n",
        "        return headles_driver.get(self.url)\n",
        "    \n",
        "    def get_phantom_driver(self):\n",
        "        return phantom_driver.get(self.url)\n",
        "\n",
        "    def build_headless(self):\n",
        "        self.headless_driver = self.get_headless_driver()\n",
        "\n",
        "    def build_phantom(self):\n",
        "        self.phantom_driver = self.get_phantom_driver()"
      ],
      "execution_count": null,
      "outputs": []
    },
    {
      "cell_type": "markdown",
      "metadata": {
        "id": "ScZ-XSDN1upf"
      },
      "source": [
        "# Recursive search"
      ]
    },
    {
      "cell_type": "markdown",
      "metadata": {
        "id": "EvyIOp4WQZ--"
      },
      "source": [
        "## Preliminaries"
      ]
    },
    {
      "cell_type": "code",
      "metadata": {
        "id": "1ruNqf-fQg9b"
      },
      "source": [
        "#@title Preliminaries\n",
        "\n",
        "#@markdown * Import libraries\n",
        "import json\n",
        "from w3lib.html import replace_entities\n",
        "import pandas as pd\n",
        "from tqdm import tqdm\n",
        "from copy import deepcopy\n",
        "from google.colab import data_table\n",
        "\n",
        "#@markdown * Functions\n",
        "def load_URLs(URL):\n",
        "    r = requests.request('GET', URL)\n",
        "    return bs(r.text), phantom_driver.get(URL), headles_driver.get(URL)\n",
        "\n",
        "#@markdown * Retriving data\n",
        "\n",
        "#@markdown *List of useful columns\n",
        "#[\"url\",\"brand_name\",\"manufacturer_name\",\"product_description\",\"model\",\"color_name\",\"item_package_quantity\", \"unit_count\"]\n",
        "all_columns=[\"title\",\"bread_crumb1\",\"bread_crumb2\",\"bread_crumb3\",\"brand_name\",\n",
        "             \"manufacturer_name\",\"model\",\"upc\",\"color_name\",\"size_name\",\n",
        "             \"item_package_quantity\",\"part_number\",\"list_price\",\"unit_count\",\n",
        "             \"product_description\"]\n",
        "useful_cols =  [\"url\",\"brand_name\",\"manufacturer_name\",\"product_description\",\"model\",\"color_name\",\"item_package_quantity\", \"unit_count\"]#@param {type:\"raw\"}\n",
        "\n",
        "file_name = \"demeterfragrance.csv\" #@param {type:\"string\"}\n",
        "if useful_cols is None:\n",
        "    data = pd.read_csv(file_name)\n",
        "else:\n",
        "    data = pd.read_csv(file_name, usecols=useful_cols)\n",
        "\n",
        "#@markdown Data loaded as: data\n",
        "## separating URLs\n",
        "url_variant = data.url[data.url.apply(lambda x: \"variant\" in x)]\n",
        "not_variant = data.url[data.url.apply(lambda x: \"variant\" not in x)]\n",
        "\n",
        "print(f\"Not variant URLs: {len(not_variant)}\\n\"\n",
        "      f\"URL with variant: {len(url_variant)}\")"
      ],
      "execution_count": null,
      "outputs": []
    },
    {
      "cell_type": "code",
      "metadata": {
        "cellView": "form",
        "id": "yzjXSLUX41vW"
      },
      "source": [
        "#@title Web scrapped df\r\n",
        "#@markdown Create a new dataframe (df) to store the web scrapped values.\r\n",
        "df = pd.DataFrame([page_loader(url) for url in data.url], columns=[\"page\"])"
      ],
      "execution_count": null,
      "outputs": []
    },
    {
      "cell_type": "markdown",
      "metadata": {
        "id": "e83C_nC6vLIT"
      },
      "source": [
        "## Retriving the data"
      ]
    },
    {
      "cell_type": "code",
      "metadata": {
        "id": "XWOTxSOT2mZn",
        "cellView": "form"
      },
      "source": [
        "#@title Example page\n",
        "#@markdown * page\n",
        "#@markdown * response\n",
        "index =  50#@param {type:\"integer\"}\n",
        "page = df.page[index]\n",
        "print(f\"url: {page.url}\")\n",
        "response = page.response"
      ],
      "execution_count": null,
      "outputs": []
    },
    {
      "cell_type": "code",
      "metadata": {
        "id": "N6Q9qc84sglw",
        "cellView": "form"
      },
      "source": [
        "#@title Show df\n",
        "drop_cols = None#@param {type:\"raw\"}\n",
        "include_index = True #@param {type:\"boolean\"}\n",
        "\n",
        "if drop_cols is None:\n",
        "    display(data_table.DataTable(df,include_index))\n",
        "else:\n",
        "    display(data_table.DataTable(df.drop(drop_cols, 1),include_index))"
      ],
      "execution_count": null,
      "outputs": []
    },
    {
      "cell_type": "markdown",
      "metadata": {
        "id": "E76ZaqmVw3lD"
      },
      "source": [
        "### Title"
      ]
    },
    {
      "cell_type": "code",
      "metadata": {
        "id": "RUWhdWF_lYR6"
      },
      "source": [
        "# def get_title(page):\r\n",
        "#     try: \r\n",
        "#         return page.response.title.text\r\n",
        "#     except:\r\n",
        "#         print(f\"error in {page.url}\")\r\n",
        "#         return np.nan\r\n",
        "\r\n",
        "def get_title(page):\r\n",
        "    try: \r\n",
        "        return page.response.find_all('div', {'class':\"prod_line_wrap\"})\r\n",
        "    except:\r\n",
        "        print(f\"error in {page.url}\")\r\n",
        "        return np.nan\r\n",
        "\r\n",
        "title = df.page.apply(get_title)\r\n",
        "# title = [o.response.find_all('h1')[0].text for o in df['page']]\r\n",
        "# title = [o.response.title.text for o in df['page']]\r\n",
        "# df['title'] = title"
      ],
      "execution_count": null,
      "outputs": []
    },
    {
      "cell_type": "markdown",
      "metadata": {
        "id": "Xlqqp3y_cEYh"
      },
      "source": [
        "### Metadata from scripts"
      ]
    },
    {
      "cell_type": "code",
      "metadata": {
        "id": "tbGCmi6aIyN_"
      },
      "source": [
        "prod_line_wrap = []\r\n",
        "for page in df.page:\r\n",
        "    # get the page's info\r\n",
        "    variant = str(page.variant)\r\n",
        "    divs = page.response.find_all('div', {'class':\"prod_line_wrap\"})\r\n",
        "\r\n",
        "    # For each divisor in the given page\r\n",
        "    for div in divs:\r\n",
        "        scode = div.find_all('form')[0].attrs['data-scode']\r\n",
        "        if scode == variant:\r\n",
        "            title = div.find_all('input', {'name':'name'})[0]\r\n",
        "            barcode = div.find_all('input', {'name':'code'})[0]\r\n",
        "            prod_line_wrap.append({\r\n",
        "                'url' : page.url,\r\n",
        "                'title' : title.attrs['value'],\r\n",
        "                'barcode' : barcode.attrs['value']\r\n",
        "                }\r\n",
        "            )"
      ],
      "execution_count": null,
      "outputs": []
    },
    {
      "cell_type": "markdown",
      "metadata": {
        "id": "AlUDIcHJ2D11"
      },
      "source": [
        "### brand"
      ]
    },
    {
      "cell_type": "code",
      "metadata": {
        "id": "p0JnNEVtME5P"
      },
      "source": [
        "request = page.response\r\n",
        "variant = np.squeeze(re.findall(r\"=(.*)\", page.url))\r\n",
        "[script for script in bs(request.text).find_all('script') if 'barcode' in script.text]"
      ],
      "execution_count": null,
      "outputs": []
    },
    {
      "cell_type": "markdown",
      "metadata": {
        "id": "MUFcWlWh2F-z"
      },
      "source": [
        "### barcode"
      ]
    },
    {
      "cell_type": "code",
      "metadata": {
        "id": "FboVECMrJXQu"
      },
      "source": [
        "def get_barcode(page):\r\n",
        "    request = page.response\r\n",
        "    variant = np.squeeze(re.findall(r\"=(.*)\", page.url))\r\n",
        "    script = [script for script in bs(request.text).find_all('script') if (variant in script.text) and 'barcode' in script.text]\r\n",
        "    return script\r\n",
        "    "
      ],
      "execution_count": null,
      "outputs": []
    },
    {
      "cell_type": "code",
      "metadata": {
        "id": "mYr5TA3Qr-r5"
      },
      "source": [
        "#@markdown variant_parsed\n",
        "int_cast = True #@param {type:\"boolean\"}\n",
        "\n",
        "df['variaant_parsed'] = [re.findall(r\"=(.*)\", i.parsed_url) for i in df['page']]\n",
        "df['variaant_parsed'] = df['variaant_parsed'].map(lambda x: np.squeeze(x))\n",
        "\n",
        "\n",
        "def variant_parsed_fixer(x):\n",
        "    x = (x,None)[len(x)==0]\n",
        "    try:\n",
        "        return int(x)\n",
        "    except:\n",
        "        return np.nan\n",
        "    \n",
        "\n",
        "if int_cast:\n",
        "    df['variaant_parsed'] = df['variaant_parsed'].map(variant_parsed_fixer)\n",
        "else:\n",
        "    df['variaant_parsed'] = df['variaant_parsed'].map(lambda x: (x,None)[len(x)==0])"
      ],
      "execution_count": null,
      "outputs": []
    },
    {
      "cell_type": "markdown",
      "metadata": {
        "id": "mJJztiFeSg6S"
      },
      "source": [
        "#### More extractions"
      ]
    },
    {
      "cell_type": "code",
      "metadata": {
        "cellView": "form",
        "id": "d5rdwT1m3_87"
      },
      "source": [
        "#@markdown df with metadat extracted\r\n",
        "test = []\r\n",
        "for i in product_meta:\r\n",
        "    if i is np.nan:\r\n",
        "        test.append({'id':None,\r\n",
        "                     'public_title':None,\r\n",
        "                     'name':None,\r\n",
        "                     'sku':None})\r\n",
        "    else:\r\n",
        "        test.append({'id':i['id'],\r\n",
        "                     'public_title':i['public_title'],\r\n",
        "                     'name':i['name'],\r\n",
        "                     'sku':i['sku']})\r\n",
        "\r\n",
        "df_meta = pd.concat([df, pd.DataFrame(test)], axis=1)"
      ],
      "execution_count": null,
      "outputs": []
    },
    {
      "cell_type": "code",
      "metadata": {
        "cellView": "form",
        "id": "0Eu8KGFUguVA"
      },
      "source": [
        "#@markdown Breadcrumbs\r\n",
        "breadcrumb = [o.response.find_all('div', {'class':'breadcrumb'})[0].text for o in df['page']]\r\n",
        "breadcrumbs = [b.split('»')[:-1] for b in breadcrumb]\r\n",
        "single_space_breadcrumbs = [[re.sub(' +', ' ', each_breadcrumb)\\\r\n",
        "                                .replace('\\n','')\\\r\n",
        "                                .rstrip()\r\n",
        "                            for each_breadcrumb in breadcrumb_list]\r\n",
        "                            for breadcrumb_list in breadcrumbs]\r\n",
        "\r\n",
        "breadcrumb_1 = []\r\n",
        "breadcrumb_2 = []\r\n",
        "breadcrumb_3 = []\r\n",
        "\r\n",
        "for x in single_space_breadcrumbs:\r\n",
        "    # Breacdrumb 1\r\n",
        "    breadcrumb_1.append(x[0])\r\n",
        "    # Breacdrumb 2\r\n",
        "    try:\r\n",
        "        breadcrumb_2.append(x[1])\r\n",
        "    except:\r\n",
        "        breadcrumb_2.append(None)\r\n",
        "    # Breacdrumb 3\r\n",
        "    try:\r\n",
        "        breadcrumb_3.append(x[2])\r\n",
        "    except:\r\n",
        "        breadcrumb_3.append(None)\r\n",
        "\r\n",
        "df['bread_crumb1'] = breadcrumb_1\r\n",
        "df['bread_crumb2'] = breadcrumb_2\r\n",
        "df['bread_crumb3'] = breadcrumb_3"
      ],
      "execution_count": null,
      "outputs": []
    },
    {
      "cell_type": "code",
      "metadata": {
        "id": "NDsMmaII1J05",
        "cellView": "form"
      },
      "source": [
        "#@markdown Product Codes\r\n",
        "\r\n",
        "# re.match('(?:Product Code)(...........)',code.text)\r\n",
        "\r\n",
        "# codes = [page.response.find_all('div', {'class':'description'}) for page in df.page]\r\n",
        "\r\n",
        "product_codes = []\r\n",
        "for code in codes:\r\n",
        "    child = [c for c in code[0].children]\r\n",
        "    child_df = pd.DataFrame(child,columns=['val'])\r\n",
        "    val = [i+1 for i, c in enumerate(child_df['val']) if 'Product Code:' in c][0]\r\n",
        "    product_codes.append(child_df['val'][val].strip().split(','))\r\n",
        "\r\n",
        "df['model'] = pd.Series(map(lambda x: (np.nan, x[0])[len(x)==1], product_codes))"
      ],
      "execution_count": null,
      "outputs": []
    },
    {
      "cell_type": "code",
      "metadata": {
        "id": "WJYVAMHmCKmI",
        "cellView": "form"
      },
      "source": [
        "#@markdown package_size\r\n",
        "pk = []\r\n",
        "for text in df.sku:\r\n",
        "    try:\r\n",
        "        pk.append(int(re.search(r'(\\d*)(?:-)[Pp](?:ack)', text).group(1)))\r\n",
        "    except:\r\n",
        "        pk.append(None)\r\n",
        "df['item_package_quantity'] = pk"
      ],
      "execution_count": null,
      "outputs": []
    },
    {
      "cell_type": "code",
      "metadata": {
        "id": "r8dre6lFSrMP"
      },
      "source": [
        "#@markdown Description\r\n",
        "def get_description(page):\r\n",
        "    description = page.response.find_all('div', attrs={'itemprop':'description'})\r\n",
        "    try:\r\n",
        "        return description[0].text\\\r\n",
        "                            .strip('\\n')\\\r\n",
        "                            .strip('\\xa0')\\\r\n",
        "                            .strip('\\n')\\\r\n",
        "                            .strip('\\xa0')\\\r\n",
        "                            .strip('\\n')\r\n",
        "    except:\r\n",
        "        return description"
      ],
      "execution_count": null,
      "outputs": []
    },
    {
      "cell_type": "code",
      "metadata": {
        "id": "888kDFfdX8Pk"
      },
      "source": [
        "description = df.page.map(get_description)\r\n",
        "description = description.map(lambda x: np.squeeze(x))"
      ],
      "execution_count": null,
      "outputs": []
    },
    {
      "cell_type": "code",
      "metadata": {
        "id": "n4TA_1x-d58A"
      },
      "source": [
        "df.page.map(get_description)"
      ],
      "execution_count": null,
      "outputs": []
    },
    {
      "cell_type": "code",
      "metadata": {
        "id": "nRk8AqARYSlS"
      },
      "source": [
        "# index_label=df.page.apply(lambda x: x.url)\r\n",
        "# df.set_index(index_label,inplace=True)\r\n",
        "df.to_excel('hi-hyperlite_reviewd.xlsx', \r\n",
        "          columns=['title', 'id', 'public_title', 'name', 'sku',\r\n",
        "                   'item_package_quantity', 'unit_count','product_description'])"
      ],
      "execution_count": null,
      "outputs": []
    },
    {
      "cell_type": "code",
      "metadata": {
        "cellView": "form",
        "id": "dZ3jheHBQBZx"
      },
      "source": [
        "#@markdown unit_count\r\n",
        "pcs = []\r\n",
        "for text in df.sku:\r\n",
        "    try:\r\n",
        "        pcs.append(int(re.search(r'(\\d*)[Pp](?:cs)', text).group(1)))\r\n",
        "    except:\r\n",
        "        pcs.append(None)\r\n",
        "df['unit_count'] = pcs"
      ],
      "execution_count": null,
      "outputs": []
    },
    {
      "cell_type": "code",
      "metadata": {
        "cellView": "form",
        "id": "qSdRbieaJzWl"
      },
      "source": [
        "#@markdown Color\r\n",
        "tentative_color = []\r\n",
        "\r\n",
        "for t in df.title:\r\n",
        "    try:\r\n",
        "        tentative_color.append([t, t.split(' -')][1])\r\n",
        "    except:\r\n",
        "        tentative_color.append(None)\r\n",
        "color = pd.DataFrame(tentative_color,\r\n",
        "                     columns=['title', 'color'])\r\n",
        "# data_table.DataTable(color)\r\n",
        "df['color'] = color.color"
      ],
      "execution_count": null,
      "outputs": []
    },
    {
      "cell_type": "markdown",
      "metadata": {
        "id": "0mG65UioDisZ"
      },
      "source": [
        "#### Metadata"
      ]
    },
    {
      "cell_type": "code",
      "metadata": {
        "cellView": "form",
        "id": "_sOcRv3r3N4Z"
      },
      "source": [
        "#@markdown Function:    **get_meta** <br>\r\n",
        "#@markdown Column:      **metadata**\r\n",
        "def get_meta(page):\r\n",
        "    response = page.response\r\n",
        "    scripts = response.find_all('script')\r\n",
        "    meta = ''\r\n",
        "    for s in scripts:\r\n",
        "        if 'var meta' in s.text:          # find the script of interest\r\n",
        "            meta = s.text\r\n",
        "            meta = meta.split('var meta = ')[1].split(';')[0]\r\n",
        "    return json.loads(meta)\r\n",
        "\r\n",
        "df['metadata']=df.page.apply(get_meta)"
      ],
      "execution_count": null,
      "outputs": []
    },
    {
      "cell_type": "code",
      "metadata": {
        "cellView": "form",
        "id": "krF47gOO_Tia"
      },
      "source": [
        "#@markdown Product metadata: df[\\'product_meta']\r\n",
        "product_meta = []\r\n",
        "for i in range(len(df)):\r\n",
        "    try:\r\n",
        "        product = [product for product in df.metadata[i]['product']['variants']\r\n",
        "                   if product['id'] == df['variaant_parsed'][i]][0]\r\n",
        "        product_meta.append(product)\r\n",
        "    except:\r\n",
        "        product_meta.append(np.nan)\r\n",
        "        \r\n",
        "df['product_meta'] = product_meta"
      ],
      "execution_count": null,
      "outputs": []
    },
    {
      "cell_type": "markdown",
      "metadata": {
        "id": "OL23R8HgQrnr"
      },
      "source": [
        "## Others"
      ]
    },
    {
      "cell_type": "code",
      "metadata": {
        "id": "Iu9i130ghy1U"
      },
      "source": [
        "pd.DataFrame(description).loc[0,'description']"
      ],
      "execution_count": null,
      "outputs": []
    },
    {
      "cell_type": "code",
      "metadata": {
        "id": "uAdoThwwkWQ7"
      },
      "source": [
        "pd.DataFrame(description).to_excel('description.xlsx')"
      ],
      "execution_count": null,
      "outputs": []
    },
    {
      "cell_type": "code",
      "metadata": {
        "id": "YjKoNJxf5jf8"
      },
      "source": [
        "# <div id=\"ProductPfidComponent_ProductName_3\" class=\"ProductPfidComponent\" data-block=\"ProductName\">\r\n",
        "description = []\r\n",
        "for page in df.page:\r\n",
        "    response = page.response\r\n",
        "    attrs= {'class':'product-description'}\r\n",
        "    \r\n",
        "    findings = response.find_all('div',attrs=attrs)\r\n",
        "    try:\r\n",
        "        description.append({'url' : page.url,\r\n",
        "                            'description' : findings[0].text.strip('\\n')})\r\n",
        "    except:\r\n",
        "        description.append({'url' : page.url,\r\n",
        "                            'description' : False})"
      ],
      "execution_count": null,
      "outputs": []
    },
    {
      "cell_type": "code",
      "metadata": {
        "id": "6iCdU5_86jvR"
      },
      "source": [
        "response.decode_contents"
      ],
      "execution_count": null,
      "outputs": []
    },
    {
      "cell_type": "markdown",
      "metadata": {
        "id": "rzWrU5G0Yyoi"
      },
      "source": [
        "## json"
      ]
    },
    {
      "cell_type": "code",
      "metadata": {
        "id": "scXwkW14rDM4"
      },
      "source": [
        "# URL = data.url[0]\r\n",
        "# text = requests.request('GET', URL).text\r\n",
        "# base = 'data-product-sku=\"'\r\n",
        "# reg = '(?='+base+')(.*)(?=\")'\r\n",
        "# found = finder(reg, text)\r\n",
        "\r\n",
        "# found = [i for i in found]\r\n",
        "# found = [i+';}' for i in found[1].split(';}')[:-1]]\r\n",
        "# found = ''.join([str(n) for n in found])\r\n",
        "# json.loads())"
      ],
      "execution_count": null,
      "outputs": []
    },
    {
      "cell_type": "code",
      "metadata": {
        "id": "tEIC5BrkIclv"
      },
      "source": [
        "json.loads(found.split('[',1)[1].rsplit(']',1)[0])"
      ],
      "execution_count": null,
      "outputs": []
    },
    {
      "cell_type": "code",
      "metadata": {
        "id": "rn2tytkg_FVZ"
      },
      "source": [
        "#@markdown Find Attributes\n",
        "dc = json.loads(finder(r'(?:var meta = )(.*)(?:};)', s.text)[0].replace('var meta = ',''))\n",
        "try:\n",
        "    variant_num = URL.split('variant=')[1]\n",
        "    variant = [i for i in dc['product']['variants'] if i['id']==int(variant_num)][0]\n",
        "except IndexError:\n",
        "    variant = dc['product']['variants'][0]\n",
        "#@markdown * title\n",
        "title = driver.find_element_by_class_name(\"standard-single\").text\n",
        "\n",
        "#@markdown * Public_title  | _has the size values_\n",
        "public_title = variant['public_title'] \n",
        "\n",
        "#@markdown * brand\n",
        "brand = finder(r\"(?:\\\"brand\\\")(.)\", s.text, look_ahead=20)[1].split(\":\")[1].replace('\"','')\n",
        "\n",
        "#@markdown * manofacturer\n",
        "try:\n",
        "    label = dc['product']['label']\n",
        "except:\n",
        "    label = finder(r\"(?:\\\"label\\\")(.)\", s.text, look_ahead=20)[1].split(\":\")[1].replace('\"','')\n",
        "\n",
        "#@markdown * Price\n",
        "price = wd.find_element_by_id('ProductPrice')"
      ],
      "execution_count": null,
      "outputs": []
    },
    {
      "cell_type": "markdown",
      "metadata": {
        "id": "HdNFWI92RIpj"
      },
      "source": [
        "# Fase 2 | Integration"
      ]
    },
    {
      "cell_type": "code",
      "metadata": {
        "id": "FDhbwombR_oh"
      },
      "source": [
        "data.set_index('url',inplace=True)\n",
        "clean_responses = pd.read_excel('response.xlsx',index_col='url')"
      ],
      "execution_count": null,
      "outputs": []
    },
    {
      "cell_type": "code",
      "metadata": {
        "id": "wcIHA_V9SSJ7"
      },
      "source": [
        "set_cr = set(clean_responses.columns)\n",
        "set_data = set(data.columns)\n",
        "set_cr.symmetric_difference(set_data)"
      ],
      "execution_count": null,
      "outputs": []
    },
    {
      "cell_type": "code",
      "metadata": {
        "id": "bGsXRxrGT61T"
      },
      "source": [
        "clean_responses.rename(columns={'price':'list_price',\n",
        "                        'sku':'upc',\n",
        "                        'description':'product_description',\n",
        "                        }, inplace=True)"
      ],
      "execution_count": null,
      "outputs": []
    },
    {
      "cell_type": "code",
      "metadata": {
        "id": "uQLU0reSSH9m"
      },
      "source": [
        "set_cr = set(clean_responses.columns)\n",
        "set_data = set(data.columns)\n",
        "data_clean = clean_responses.join(data.drop(columns=set_cr.intersection(set_data)))\n",
        "data_clean[data.columns].to_csv('clean_data.csv')"
      ],
      "execution_count": null,
      "outputs": []
    }
  ]
}